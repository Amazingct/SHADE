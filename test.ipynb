{
 "cells": [
  {
   "cell_type": "code",
   "execution_count": 3,
   "metadata": {},
   "outputs": [
    {
     "data": {
      "text/html": [
       "<div>\n",
       "<style scoped>\n",
       "    .dataframe tbody tr th:only-of-type {\n",
       "        vertical-align: middle;\n",
       "    }\n",
       "\n",
       "    .dataframe tbody tr th {\n",
       "        vertical-align: top;\n",
       "    }\n",
       "\n",
       "    .dataframe thead th {\n",
       "        text-align: right;\n",
       "    }\n",
       "</style>\n",
       "<table border=\"1\" class=\"dataframe\">\n",
       "  <thead>\n",
       "    <tr style=\"text-align: right;\">\n",
       "      <th></th>\n",
       "      <th>name</th>\n",
       "      <th>type</th>\n",
       "      <th>child</th>\n",
       "    </tr>\n",
       "  </thead>\n",
       "  <tbody>\n",
       "    <tr>\n",
       "      <th>sitting-room</th>\n",
       "      <td>sitting-room</td>\n",
       "      <td>switch,sensor</td>\n",
       "      <td>[light, temperature]</td>\n",
       "    </tr>\n",
       "    <tr>\n",
       "      <th>office</th>\n",
       "      <td>office</td>\n",
       "      <td>switch</td>\n",
       "      <td>[ledlight, rgblight, desk, fan]</td>\n",
       "    </tr>\n",
       "    <tr>\n",
       "      <th>dinning</th>\n",
       "      <td>dinning</td>\n",
       "      <td>switch,sensor</td>\n",
       "      <td>[light, gas]</td>\n",
       "    </tr>\n",
       "    <tr>\n",
       "      <th>bathroom</th>\n",
       "      <td>bathroom</td>\n",
       "      <td>switch,sensor</td>\n",
       "      <td>[light, temperature]</td>\n",
       "    </tr>\n",
       "    <tr>\n",
       "      <th>office/camera</th>\n",
       "      <td>office/camera</td>\n",
       "      <td>camera</td>\n",
       "      <td>[persons, actions, emotions]</td>\n",
       "    </tr>\n",
       "    <tr>\n",
       "      <th>date-time</th>\n",
       "      <td>date-time</td>\n",
       "      <td>date-time</td>\n",
       "      <td>[hour, second, minute, day, month, year]</td>\n",
       "    </tr>\n",
       "  </tbody>\n",
       "</table>\n",
       "</div>"
      ],
      "text/plain": [
       "                        name           type  \\\n",
       "sitting-room    sitting-room  switch,sensor   \n",
       "office                office         switch   \n",
       "dinning              dinning  switch,sensor   \n",
       "bathroom            bathroom  switch,sensor   \n",
       "office/camera  office/camera         camera   \n",
       "date-time          date-time      date-time   \n",
       "\n",
       "                                                  child  \n",
       "sitting-room                       [light, temperature]  \n",
       "office                  [ledlight, rgblight, desk, fan]  \n",
       "dinning                                    [light, gas]  \n",
       "bathroom                           [light, temperature]  \n",
       "office/camera              [persons, actions, emotions]  \n",
       "date-time      [hour, second, minute, day, month, year]  "
      ]
     },
     "execution_count": 3,
     "metadata": {},
     "output_type": "execute_result"
    }
   ],
   "source": [
    "import pandas as pd\n",
    "import os\n",
    "import json\n",
    "devices_json = os.path.join(\"MainController\",\"Configurations\",\"devices.json\")\n",
    "# with open(devices_json, \"rb\") as devices_file:\n",
    "#     devices = json.load(devices_file)\n",
    "# df_list = []\n",
    "# for key, value in devices.items():\n",
    "#     df_list.append()\n",
    "    \n",
    "devices = pd.read_json(devices_json, orient=\"index\")\n",
    "devices"
   ]
  }
 ],
 "metadata": {
  "kernelspec": {
   "display_name": "Python 3.8.13 ('shade')",
   "language": "python",
   "name": "python3"
  },
  "language_info": {
   "codemirror_mode": {
    "name": "ipython",
    "version": 3
   },
   "file_extension": ".py",
   "mimetype": "text/x-python",
   "name": "python",
   "nbconvert_exporter": "python",
   "pygments_lexer": "ipython3",
   "version": "3.8.13"
  },
  "orig_nbformat": 4,
  "vscode": {
   "interpreter": {
    "hash": "0bc4de547dce33cdce8bc0316d48082a9434ecac2ea01b725cdc364291eda157"
   }
  }
 },
 "nbformat": 4,
 "nbformat_minor": 2
}
